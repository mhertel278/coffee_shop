{
 "cells": [
  {
   "cell_type": "code",
   "execution_count": 1,
   "id": "d5ddee7d",
   "metadata": {},
   "outputs": [],
   "source": [
    "import pandas as pd\n",
    "import numpy as np\n"
   ]
  },
  {
   "cell_type": "markdown",
   "id": "5e4e0a03",
   "metadata": {},
   "source": [
    "## Transactions table EDA and Data Cleaning"
   ]
  },
  {
   "cell_type": "code",
   "execution_count": 5,
   "id": "706da34b",
   "metadata": {},
   "outputs": [
    {
     "data": {
      "text/html": [
       "<div>\n",
       "<style scoped>\n",
       "    .dataframe tbody tr th:only-of-type {\n",
       "        vertical-align: middle;\n",
       "    }\n",
       "\n",
       "    .dataframe tbody tr th {\n",
       "        vertical-align: top;\n",
       "    }\n",
       "\n",
       "    .dataframe thead th {\n",
       "        text-align: right;\n",
       "    }\n",
       "</style>\n",
       "<table border=\"1\" class=\"dataframe\">\n",
       "  <thead>\n",
       "    <tr style=\"text-align: right;\">\n",
       "      <th></th>\n",
       "      <th>transaction_id</th>\n",
       "      <th>transaction_date</th>\n",
       "      <th>transaction_time</th>\n",
       "      <th>sales_outlet_id</th>\n",
       "      <th>staff_id</th>\n",
       "      <th>customer_id</th>\n",
       "      <th>instore_yn</th>\n",
       "      <th>order</th>\n",
       "      <th>line_item_id</th>\n",
       "      <th>product_id</th>\n",
       "      <th>quantity</th>\n",
       "      <th>line_item_amount</th>\n",
       "      <th>unit_price</th>\n",
       "      <th>promo_item_yn</th>\n",
       "    </tr>\n",
       "  </thead>\n",
       "  <tbody>\n",
       "    <tr>\n",
       "      <th>0</th>\n",
       "      <td>7</td>\n",
       "      <td>2019-04-01</td>\n",
       "      <td>12:04:43</td>\n",
       "      <td>3</td>\n",
       "      <td>12</td>\n",
       "      <td>558</td>\n",
       "      <td>N</td>\n",
       "      <td>1</td>\n",
       "      <td>1</td>\n",
       "      <td>52</td>\n",
       "      <td>1</td>\n",
       "      <td>2.50</td>\n",
       "      <td>2.50</td>\n",
       "      <td>N</td>\n",
       "    </tr>\n",
       "    <tr>\n",
       "      <th>1</th>\n",
       "      <td>11</td>\n",
       "      <td>2019-04-01</td>\n",
       "      <td>15:54:39</td>\n",
       "      <td>3</td>\n",
       "      <td>17</td>\n",
       "      <td>781</td>\n",
       "      <td>N</td>\n",
       "      <td>1</td>\n",
       "      <td>1</td>\n",
       "      <td>27</td>\n",
       "      <td>2</td>\n",
       "      <td>7.00</td>\n",
       "      <td>3.50</td>\n",
       "      <td>N</td>\n",
       "    </tr>\n",
       "    <tr>\n",
       "      <th>2</th>\n",
       "      <td>19</td>\n",
       "      <td>2019-04-01</td>\n",
       "      <td>14:34:59</td>\n",
       "      <td>3</td>\n",
       "      <td>17</td>\n",
       "      <td>788</td>\n",
       "      <td>Y</td>\n",
       "      <td>1</td>\n",
       "      <td>1</td>\n",
       "      <td>46</td>\n",
       "      <td>2</td>\n",
       "      <td>5.00</td>\n",
       "      <td>2.50</td>\n",
       "      <td>N</td>\n",
       "    </tr>\n",
       "    <tr>\n",
       "      <th>3</th>\n",
       "      <td>32</td>\n",
       "      <td>2019-04-01</td>\n",
       "      <td>16:06:04</td>\n",
       "      <td>3</td>\n",
       "      <td>12</td>\n",
       "      <td>683</td>\n",
       "      <td>N</td>\n",
       "      <td>1</td>\n",
       "      <td>1</td>\n",
       "      <td>23</td>\n",
       "      <td>2</td>\n",
       "      <td>5.00</td>\n",
       "      <td>2.50</td>\n",
       "      <td>N</td>\n",
       "    </tr>\n",
       "    <tr>\n",
       "      <th>4</th>\n",
       "      <td>33</td>\n",
       "      <td>2019-04-01</td>\n",
       "      <td>19:18:37</td>\n",
       "      <td>3</td>\n",
       "      <td>17</td>\n",
       "      <td>99</td>\n",
       "      <td>Y</td>\n",
       "      <td>1</td>\n",
       "      <td>1</td>\n",
       "      <td>34</td>\n",
       "      <td>1</td>\n",
       "      <td>2.45</td>\n",
       "      <td>2.45</td>\n",
       "      <td>N</td>\n",
       "    </tr>\n",
       "  </tbody>\n",
       "</table>\n",
       "</div>"
      ],
      "text/plain": [
       "   transaction_id transaction_date transaction_time  sales_outlet_id  \\\n",
       "0               7       2019-04-01         12:04:43                3   \n",
       "1              11       2019-04-01         15:54:39                3   \n",
       "2              19       2019-04-01         14:34:59                3   \n",
       "3              32       2019-04-01         16:06:04                3   \n",
       "4              33       2019-04-01         19:18:37                3   \n",
       "\n",
       "   staff_id  customer_id instore_yn  order  line_item_id  product_id  \\\n",
       "0        12          558          N      1             1          52   \n",
       "1        17          781          N      1             1          27   \n",
       "2        17          788          Y      1             1          46   \n",
       "3        12          683          N      1             1          23   \n",
       "4        17           99          Y      1             1          34   \n",
       "\n",
       "   quantity  line_item_amount  unit_price promo_item_yn  \n",
       "0         1              2.50        2.50             N  \n",
       "1         2              7.00        3.50             N  \n",
       "2         2              5.00        2.50             N  \n",
       "3         2              5.00        2.50             N  \n",
       "4         1              2.45        2.45             N  "
      ]
     },
     "execution_count": 5,
     "metadata": {},
     "output_type": "execute_result"
    }
   ],
   "source": [
    "# read in table\n",
    "transactions_df = pd.read_csv('data_files/201904 sales reciepts.csv')\n",
    "transactions_df.head()"
   ]
  },
  {
   "cell_type": "code",
   "execution_count": 7,
   "id": "8bf2fb0f",
   "metadata": {},
   "outputs": [
    {
     "data": {
      "text/plain": [
       "(49894, 14)"
      ]
     },
     "execution_count": 7,
     "metadata": {},
     "output_type": "execute_result"
    }
   ],
   "source": [
    "# find num of rows and columns\n",
    "transactions_df.shape"
   ]
  },
  {
   "cell_type": "code",
   "execution_count": 8,
   "id": "d1152e2a",
   "metadata": {},
   "outputs": [
    {
     "data": {
      "text/plain": [
       "transaction_id      0\n",
       "transaction_date    0\n",
       "transaction_time    0\n",
       "sales_outlet_id     0\n",
       "staff_id            0\n",
       "customer_id         0\n",
       "instore_yn          0\n",
       "order               0\n",
       "line_item_id        0\n",
       "product_id          0\n",
       "quantity            0\n",
       "line_item_amount    0\n",
       "unit_price          0\n",
       "promo_item_yn       0\n",
       "dtype: int64"
      ]
     },
     "execution_count": 8,
     "metadata": {},
     "output_type": "execute_result"
    }
   ],
   "source": [
    "# check for nulls\n",
    "transactions_df.isnull().sum()"
   ]
  },
  {
   "cell_type": "code",
   "execution_count": 12,
   "id": "879971e0",
   "metadata": {},
   "outputs": [
    {
     "data": {
      "text/plain": [
       "False    49894\n",
       "dtype: int64"
      ]
     },
     "execution_count": 12,
     "metadata": {},
     "output_type": "execute_result"
    }
   ],
   "source": [
    "# check for duplicate rows\n",
    "transactions_df.duplicated().value_counts()"
   ]
  },
  {
   "cell_type": "code",
   "execution_count": 14,
   "id": "7bcc986f",
   "metadata": {},
   "outputs": [
    {
     "data": {
      "text/plain": [
       "transaction_id        int64\n",
       "transaction_date     object\n",
       "transaction_time     object\n",
       "sales_outlet_id       int64\n",
       "staff_id              int64\n",
       "customer_id           int64\n",
       "instore_yn           object\n",
       "order                 int64\n",
       "line_item_id          int64\n",
       "product_id            int64\n",
       "quantity              int64\n",
       "line_item_amount    float64\n",
       "unit_price          float64\n",
       "promo_item_yn        object\n",
       "dtype: object"
      ]
     },
     "execution_count": 14,
     "metadata": {},
     "output_type": "execute_result"
    }
   ],
   "source": [
    "# check data types\n",
    "transactions_df.dtypes"
   ]
  },
  {
   "cell_type": "code",
   "execution_count": 15,
   "id": "9ae9b7c3",
   "metadata": {},
   "outputs": [
    {
     "data": {
      "text/html": [
       "<div>\n",
       "<style scoped>\n",
       "    .dataframe tbody tr th:only-of-type {\n",
       "        vertical-align: middle;\n",
       "    }\n",
       "\n",
       "    .dataframe tbody tr th {\n",
       "        vertical-align: top;\n",
       "    }\n",
       "\n",
       "    .dataframe thead th {\n",
       "        text-align: right;\n",
       "    }\n",
       "</style>\n",
       "<table border=\"1\" class=\"dataframe\">\n",
       "  <thead>\n",
       "    <tr style=\"text-align: right;\">\n",
       "      <th></th>\n",
       "      <th>transaction_id</th>\n",
       "      <th>sales_outlet_id</th>\n",
       "      <th>staff_id</th>\n",
       "      <th>customer_id</th>\n",
       "      <th>order</th>\n",
       "      <th>line_item_id</th>\n",
       "      <th>product_id</th>\n",
       "      <th>quantity</th>\n",
       "      <th>line_item_amount</th>\n",
       "      <th>unit_price</th>\n",
       "    </tr>\n",
       "  </thead>\n",
       "  <tbody>\n",
       "    <tr>\n",
       "      <th>count</th>\n",
       "      <td>49894.000000</td>\n",
       "      <td>49894.000000</td>\n",
       "      <td>49894.000000</td>\n",
       "      <td>49894.000000</td>\n",
       "      <td>49894.000000</td>\n",
       "      <td>49894.000000</td>\n",
       "      <td>49894.000000</td>\n",
       "      <td>49894.000000</td>\n",
       "      <td>49894.000000</td>\n",
       "      <td>49894.000000</td>\n",
       "    </tr>\n",
       "    <tr>\n",
       "      <th>mean</th>\n",
       "      <td>869.056059</td>\n",
       "      <td>5.351846</td>\n",
       "      <td>25.359582</td>\n",
       "      <td>2282.324468</td>\n",
       "      <td>1.173428</td>\n",
       "      <td>1.631860</td>\n",
       "      <td>47.878983</td>\n",
       "      <td>1.438209</td>\n",
       "      <td>4.682646</td>\n",
       "      <td>3.384645</td>\n",
       "    </tr>\n",
       "    <tr>\n",
       "      <th>std</th>\n",
       "      <td>857.863149</td>\n",
       "      <td>2.074796</td>\n",
       "      <td>12.466490</td>\n",
       "      <td>3240.551757</td>\n",
       "      <td>1.025445</td>\n",
       "      <td>1.412881</td>\n",
       "      <td>17.928355</td>\n",
       "      <td>0.543039</td>\n",
       "      <td>4.436668</td>\n",
       "      <td>2.682545</td>\n",
       "    </tr>\n",
       "    <tr>\n",
       "      <th>min</th>\n",
       "      <td>1.000000</td>\n",
       "      <td>3.000000</td>\n",
       "      <td>6.000000</td>\n",
       "      <td>0.000000</td>\n",
       "      <td>1.000000</td>\n",
       "      <td>1.000000</td>\n",
       "      <td>1.000000</td>\n",
       "      <td>1.000000</td>\n",
       "      <td>0.000000</td>\n",
       "      <td>0.800000</td>\n",
       "    </tr>\n",
       "    <tr>\n",
       "      <th>25%</th>\n",
       "      <td>223.000000</td>\n",
       "      <td>3.000000</td>\n",
       "      <td>15.000000</td>\n",
       "      <td>0.000000</td>\n",
       "      <td>1.000000</td>\n",
       "      <td>1.000000</td>\n",
       "      <td>33.000000</td>\n",
       "      <td>1.000000</td>\n",
       "      <td>3.000000</td>\n",
       "      <td>2.500000</td>\n",
       "    </tr>\n",
       "    <tr>\n",
       "      <th>50%</th>\n",
       "      <td>481.000000</td>\n",
       "      <td>5.000000</td>\n",
       "      <td>26.000000</td>\n",
       "      <td>0.000000</td>\n",
       "      <td>1.000000</td>\n",
       "      <td>1.000000</td>\n",
       "      <td>47.000000</td>\n",
       "      <td>1.000000</td>\n",
       "      <td>3.750000</td>\n",
       "      <td>3.000000</td>\n",
       "    </tr>\n",
       "    <tr>\n",
       "      <th>75%</th>\n",
       "      <td>1401.000000</td>\n",
       "      <td>8.000000</td>\n",
       "      <td>41.000000</td>\n",
       "      <td>5412.000000</td>\n",
       "      <td>1.000000</td>\n",
       "      <td>1.000000</td>\n",
       "      <td>60.000000</td>\n",
       "      <td>2.000000</td>\n",
       "      <td>6.000000</td>\n",
       "      <td>3.750000</td>\n",
       "    </tr>\n",
       "    <tr>\n",
       "      <th>max</th>\n",
       "      <td>4203.000000</td>\n",
       "      <td>8.000000</td>\n",
       "      <td>45.000000</td>\n",
       "      <td>8501.000000</td>\n",
       "      <td>9.000000</td>\n",
       "      <td>12.000000</td>\n",
       "      <td>87.000000</td>\n",
       "      <td>8.000000</td>\n",
       "      <td>360.000000</td>\n",
       "      <td>45.000000</td>\n",
       "    </tr>\n",
       "  </tbody>\n",
       "</table>\n",
       "</div>"
      ],
      "text/plain": [
       "       transaction_id  sales_outlet_id      staff_id   customer_id  \\\n",
       "count    49894.000000     49894.000000  49894.000000  49894.000000   \n",
       "mean       869.056059         5.351846     25.359582   2282.324468   \n",
       "std        857.863149         2.074796     12.466490   3240.551757   \n",
       "min          1.000000         3.000000      6.000000      0.000000   \n",
       "25%        223.000000         3.000000     15.000000      0.000000   \n",
       "50%        481.000000         5.000000     26.000000      0.000000   \n",
       "75%       1401.000000         8.000000     41.000000   5412.000000   \n",
       "max       4203.000000         8.000000     45.000000   8501.000000   \n",
       "\n",
       "              order  line_item_id    product_id      quantity  \\\n",
       "count  49894.000000  49894.000000  49894.000000  49894.000000   \n",
       "mean       1.173428      1.631860     47.878983      1.438209   \n",
       "std        1.025445      1.412881     17.928355      0.543039   \n",
       "min        1.000000      1.000000      1.000000      1.000000   \n",
       "25%        1.000000      1.000000     33.000000      1.000000   \n",
       "50%        1.000000      1.000000     47.000000      1.000000   \n",
       "75%        1.000000      1.000000     60.000000      2.000000   \n",
       "max        9.000000     12.000000     87.000000      8.000000   \n",
       "\n",
       "       line_item_amount    unit_price  \n",
       "count      49894.000000  49894.000000  \n",
       "mean           4.682646      3.384645  \n",
       "std            4.436668      2.682545  \n",
       "min            0.000000      0.800000  \n",
       "25%            3.000000      2.500000  \n",
       "50%            3.750000      3.000000  \n",
       "75%            6.000000      3.750000  \n",
       "max          360.000000     45.000000  "
      ]
     },
     "execution_count": 15,
     "metadata": {},
     "output_type": "execute_result"
    }
   ],
   "source": [
    "transactions_df.describe()"
   ]
  },
  {
   "cell_type": "code",
   "execution_count": 17,
   "id": "a9a6e3f6",
   "metadata": {},
   "outputs": [
    {
     "data": {
      "text/plain": [
       "transaction_id       4203\n",
       "transaction_date       29\n",
       "transaction_time    26074\n",
       "sales_outlet_id         3\n",
       "staff_id               25\n",
       "customer_id          2248\n",
       "instore_yn              3\n",
       "order                   9\n",
       "line_item_id           11\n",
       "product_id             80\n",
       "quantity                6\n",
       "line_item_amount       77\n",
       "unit_price             41\n",
       "promo_item_yn           2\n",
       "dtype: int64"
      ]
     },
     "execution_count": 17,
     "metadata": {},
     "output_type": "execute_result"
    }
   ],
   "source": [
    "transactions_df.nunique()"
   ]
  },
  {
   "cell_type": "markdown",
   "id": "e8d6e7c0",
   "metadata": {},
   "source": [
    "### Only 29 dates, only 3 stores with records"
   ]
  },
  {
   "cell_type": "code",
   "execution_count": 20,
   "id": "7203456d",
   "metadata": {},
   "outputs": [
    {
     "data": {
      "text/plain": [
       "array(['2019-04-01', '2019-04-02', '2019-04-03', '2019-04-04',\n",
       "       '2019-04-05', '2019-04-06', '2019-04-07', '2019-04-08',\n",
       "       '2019-04-09', '2019-04-10', '2019-04-11', '2019-04-12',\n",
       "       '2019-04-13', '2019-04-14', '2019-04-15', '2019-04-16',\n",
       "       '2019-04-17', '2019-04-18', '2019-04-19', '2019-04-20',\n",
       "       '2019-04-21', '2019-04-22', '2019-04-23', '2019-04-24',\n",
       "       '2019-04-25', '2019-04-26', '2019-04-27', '2019-04-28',\n",
       "       '2019-04-29'], dtype=object)"
      ]
     },
     "execution_count": 20,
     "metadata": {},
     "output_type": "execute_result"
    }
   ],
   "source": [
    "# clean transaction_date column\n",
    "transactions_df.transaction_date.unique()"
   ]
  },
  {
   "cell_type": "code",
   "execution_count": 22,
   "id": "1c0b31a6",
   "metadata": {},
   "outputs": [],
   "source": [
    "# convert to date\n",
    "transactions_df['transaction_date'] = pd.to_datetime(transactions_df['transaction_date'])"
   ]
  },
  {
   "cell_type": "code",
   "execution_count": null,
   "id": "f0b99b75",
   "metadata": {},
   "outputs": [],
   "source": [
    "week_df = transactions_df.resample"
   ]
  }
 ],
 "metadata": {
  "kernelspec": {
   "display_name": "Python 3 (ipykernel)",
   "language": "python",
   "name": "python3"
  },
  "language_info": {
   "codemirror_mode": {
    "name": "ipython",
    "version": 3
   },
   "file_extension": ".py",
   "mimetype": "text/x-python",
   "name": "python",
   "nbconvert_exporter": "python",
   "pygments_lexer": "ipython3",
   "version": "3.9.7"
  }
 },
 "nbformat": 4,
 "nbformat_minor": 5
}
